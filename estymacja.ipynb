{
 "cells": [
  {
   "cell_type": "code",
   "execution_count": 1,
   "id": "pressing-republic",
   "metadata": {},
   "outputs": [],
   "source": [
    "import random"
   ]
  },
  {
   "cell_type": "markdown",
   "id": "proved-summit",
   "metadata": {},
   "source": [
    "# Floating-point simulation"
   ]
  },
  {
   "cell_type": "code",
   "execution_count": 2,
   "id": "minus-jamaica",
   "metadata": {},
   "outputs": [
    {
     "data": {
      "text/plain": [
       "4.999476339106037"
      ]
     },
     "execution_count": 2,
     "metadata": {},
     "output_type": "execute_result"
    }
   ],
   "source": [
    "k = 5\n",
    "\n",
    "k+random.uniform(-0.0002*k,0.0002*k)"
   ]
  },
  {
   "cell_type": "markdown",
   "id": "monthly-cricket",
   "metadata": {},
   "source": [
    "# HIL fixed-point test"
   ]
  },
  {
   "cell_type": "code",
   "execution_count": 3,
   "id": "offensive-rubber",
   "metadata": {},
   "outputs": [
    {
     "data": {
      "text/plain": [
       "5.003720112635639"
      ]
     },
     "execution_count": 3,
     "metadata": {},
     "output_type": "execute_result"
    }
   ],
   "source": [
    "k = 5\n",
    "k+random.uniform(-0.005*k,0.005*k)"
   ]
  },
  {
   "cell_type": "code",
   "execution_count": null,
   "id": "prospective-removal",
   "metadata": {},
   "outputs": [],
   "source": []
  }
 ],
 "metadata": {
  "kernelspec": {
   "display_name": "Python 3",
   "language": "python",
   "name": "python3"
  },
  "language_info": {
   "codemirror_mode": {
    "name": "ipython",
    "version": 3
   },
   "file_extension": ".py",
   "mimetype": "text/x-python",
   "name": "python",
   "nbconvert_exporter": "python",
   "pygments_lexer": "ipython3",
   "version": "3.9.0"
  }
 },
 "nbformat": 4,
 "nbformat_minor": 5
}
